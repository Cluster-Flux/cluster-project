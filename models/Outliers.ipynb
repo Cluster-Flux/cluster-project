{
 "cells": [
  {
   "cell_type": "code",
   "execution_count": null,
   "metadata": {},
   "outputs": [],
   "source": [
    "# get lower outlers\n",
    "\n",
    "def get_lower_outliers(s, k):\n",
    "    \"\"\"\n",
    "    Parameters are the series and the k value.  Returns the lower outliers of either 0 or another\n",
    "    number, indicating how far away from the lower bound (Q1) the observation is.\n",
    "    \"\"\"\n",
    "    q1, q3 = s.quantile([.25, .75])\n",
    "    iqr = q3 - q1\n",
    "    lower_bound = q1 - (k * iqr)\n",
    "    return s.apply(lambda x: max([x + lower_bound, 0]))\n",
    "\n",
    "def add_lower_outlier_columns(df, k):\n",
    "    \"\"\"\n",
    "    Adds a df column to show the outliers\n",
    "    \"\"\"\n",
    "    for col in df.select_dtypes(\"number\"):\n",
    "        df[col + \"_outliers\"] = get_lower_outliers(df[col], k)\n",
    "        \n",
    "    return df"
   ]
  },
  {
   "cell_type": "code",
   "execution_count": null,
   "metadata": {},
   "outputs": [],
   "source": [
    "# Take a look at the upper outliers:\n",
    "\n",
    "def get_upper_outliers(s, k):\n",
    "    \"\"\"\n",
    "    Parameters are the series and the k value.  Returns the upper outliers of either 0 or another\n",
    "    number, indicating how far away from the uppper bound (Q3) the observation is.\n",
    "    \"\"\"\n",
    "    q1, q3 = s.quantile([.25, .75])\n",
    "    iqr = q3 - q1\n",
    "    upper_bound = q3 + k * iqr\n",
    "    return s.apply(lambda x: max([x - upper_bound, 0]))\n",
    "\n",
    "def add_upper_outlier_columns(df, k):\n",
    "    \"\"\"\n",
    "    Adds a df column to show the outliers\n",
    "    \"\"\"\n",
    "    for col in df.select_dtypes(\"number\"):\n",
    "        df[col + \"_outliers\"] = get_upper_outliers(df[col], k)\n",
    "        \n",
    "    return df\n",
    "\n",
    "add_upper_outlier_columns(df, k = 1.5)\n",
    "\n",
    "df.head()"
   ]
  }
 ],
 "metadata": {
  "kernelspec": {
   "display_name": "Python 3",
   "language": "python",
   "name": "python3"
  },
  "language_info": {
   "codemirror_mode": {
    "name": "ipython",
    "version": 3
   },
   "file_extension": ".py",
   "mimetype": "text/x-python",
   "name": "python",
   "nbconvert_exporter": "python",
   "pygments_lexer": "ipython3",
   "version": "3.7.4"
  }
 },
 "nbformat": 4,
 "nbformat_minor": 4
}
